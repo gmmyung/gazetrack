{
 "cells": [
  {
   "cell_type": "code",
   "execution_count": null,
   "metadata": {
    "executionInfo": {
     "elapsed": 537,
     "status": "ok",
     "timestamp": 1626749161143,
     "user": {
      "displayName": "Gyungmin Myung",
      "photoUrl": "",
      "userId": "03813127663629680760"
     },
     "user_tz": -540
    },
    "id": "DmFrSEqT2EW5"
   },
   "outputs": [],
   "source": [
    "import os\n",
    "import sys\n",
    "import time\n",
    "import datetime\n",
    "from PIL import Image\n",
    "import matplotlib.pyplot as plt\n",
    "\n",
    "import numpy as np\n",
    "import math\n",
    "import torch\n",
    "import torch.nn as nn\n",
    "from torchvision.utils import save_image\n",
    "import torchvision.transforms as transforms\n",
    "from tqdm.auto import tqdm\n",
    "from torch.utils.data import Dataset"
   ]
  },
  {
   "cell_type": "code",
   "execution_count": null,
   "metadata": {
    "executionInfo": {
     "elapsed": 2,
     "status": "ok",
     "timestamp": 1626749161536,
     "user": {
      "displayName": "Gyungmin Myung",
      "photoUrl": "",
      "userId": "03813127663629680760"
     },
     "user_tz": -540
    },
    "id": "pt-SFEkWOq5Y"
   },
   "outputs": [],
   "source": [
    "filepath = \"/Users/gmmyung/Desktop/Develop/gazetrack\" # indicate path of workspace, change the path suited to your Google drive setting\n",
    "sys.path.append(filepath)"
   ]
  },
  {
   "cell_type": "code",
   "execution_count": null,
   "metadata": {
    "colab": {
     "base_uri": "https://localhost:8080/"
    },
    "executionInfo": {
     "elapsed": 568,
     "status": "ok",
     "timestamp": 1626749162536,
     "user": {
      "displayName": "Gyungmin Myung",
      "photoUrl": "",
      "userId": "03813127663629680760"
     },
     "user_tz": -540
    },
    "id": "wqG-otp75ztu",
    "outputId": "00414f9c-99e3-4212-8d82-326d7db1f94c"
   },
   "outputs": [],
   "source": [
    "# Check the current filepath and file lists in there\n",
    "%cd $filepath \n",
    "!pwd \n",
    "!ls "
   ]
  },
  {
   "cell_type": "code",
   "execution_count": null,
   "metadata": {
    "executionInfo": {
     "elapsed": 3,
     "status": "ok",
     "timestamp": 1626749162536,
     "user": {
      "displayName": "Gyungmin Myung",
      "photoUrl": "",
      "userId": "03813127663629680760"
     },
     "user_tz": -540
    },
    "id": "3LbNy03b3_ka"
   },
   "outputs": [],
   "source": [
    "n_epoch = 600 # number of training epochs\n",
    "batch_size = 32\n",
    "learning_rate = 1e-3\n",
    "experiment = \"exp_colab\"  # the name of experiment to save your model and optimizer.\n",
    "\n",
    "# Make directories for saving outcomes of experiment\n",
    "os.makedirs(f\"{filepath}/{experiment}\", exist_ok=True)\n",
    "os.makedirs(f\"{filepath}/results/training\", exist_ok=True)\n",
    "os.makedirs(f\"{filepath}/results/validation\", exist_ok=True)"
   ]
  },
  {
   "cell_type": "code",
   "execution_count": null,
   "metadata": {
    "executionInfo": {
     "elapsed": 1,
     "status": "ok",
     "timestamp": 1626749163121,
     "user": {
      "displayName": "Gyungmin Myung",
      "photoUrl": "",
      "userId": "03813127663629680760"
     },
     "user_tz": -540
    },
    "id": "PimsiR7xNKfh"
   },
   "outputs": [],
   "source": [
    "class MyDataset(Dataset):\n",
    "    def __init__(self, root):\n",
    "        self.root = root \n",
    "        self.left_eye_root = os.path.join(self.root, 'data/left_eye')\n",
    "        self.right_eye_root = os.path.join(self.root, 'data/right_eye')\n",
    "        self.filenames = []\n",
    "        self.eye_list = []\n",
    "        for f in os.listdir(self.left_eye_root):\n",
    "          if f.endswith('.png'):\n",
    "            self.filenames.append(int(os.path.basename(os.path.splitext(f)[0])))\n",
    "        self.filenames.sort()\n",
    "        print(self.filenames[0:10])\n",
    "\n",
    "        for filename in self.filenames:\n",
    "          with open(self.left_eye_root + '/' + str(filename) + '.png', 'rb') as f:\n",
    "            left_eye_PIL = Image.open(f).convert('L')\n",
    "            if left_eye_PIL.size != (1, 100, 100):\n",
    "              newimage = Image.new('L', (100, 100), (0,))\n",
    "              newimage.paste(left_eye_PIL)\n",
    "              left_eye_PIL = newimage\n",
    "          with open(self.right_eye_root + '/' + str(filename) + '.png', 'rb') as f:\n",
    "            right_eye_PIL = Image.open(f).convert('L')\n",
    "            if right_eye_PIL.size != (1, 100, 100):\n",
    "              newimage = Image.new('L', (100, 100), (0,))\n",
    "              newimage.paste(right_eye_PIL)\n",
    "              right_eye_PIL = newimage\n",
    "          self.eye_list += [(left_eye_PIL, right_eye_PIL, str(filename))]\n",
    "\n",
    "        self.cordData = np.genfromtxt('data/cords.csv', delimiter=',')\n",
    "\n",
    "\n",
    "    def __getitem__(self, index):\n",
    "        left_eye, right_eye, filename = self.eye_list[index]\n",
    "\n",
    "        left_eye = torch.from_numpy(np.array(left_eye)).float().unsqueeze(0)\n",
    "        right_eye = torch.from_numpy(np.array(right_eye)).float().unsqueeze(0)\n",
    "\n",
    "        facecords = torch.from_numpy(self.cordData[index][1:137]).float()\n",
    "\n",
    "        mousecord = torch.from_numpy(self.cordData[index][137:139]).float()\n",
    "\n",
    "        return left_eye, right_eye, facecords, mousecord, filename\n",
    "\n",
    "    def __len__(self):\n",
    "        return len(self.eye_list)"
   ]
  },
  {
   "cell_type": "code",
   "execution_count": null,
   "metadata": {
    "colab": {
     "base_uri": "https://localhost:8080/"
    },
    "executionInfo": {
     "elapsed": 526693,
     "status": "ok",
     "timestamp": 1626749690417,
     "user": {
      "displayName": "Gyungmin Myung",
      "photoUrl": "",
      "userId": "03813127663629680760"
     },
     "user_tz": -540
    },
    "id": "t-zGdOi07NTx",
    "outputId": "c53165eb-9040-4307-a9a4-571bef152526"
   },
   "outputs": [],
   "source": [
    "dataset = MyDataset(root=f\"/Users/gmmyung/Desktop/Develop/gazetrack\")\n",
    "\n",
    "n_train = math.floor(0.9*len(dataset)) # (default) 90% of the data for training\n",
    "n_val = len(dataset) - math.floor(0.9*len(dataset)) # (default) 10% of the data for validation\n",
    "\n",
    "print('Total number of images : {}'.format(len(dataset)))\n",
    "\n",
    "train_dataset, valid_dataset = torch.utils.data.random_split(dataset, [n_train, n_val])\n",
    "\n",
    "train_loader = torch.utils.data.DataLoader(train_dataset,\n",
    "                                        batch_size=batch_size,\n",
    "                                        shuffle=True,\n",
    "                                        drop_last=True\n",
    "                                        )\n",
    "valid_loader = torch.utils.data.DataLoader(valid_dataset,\n",
    "                                        batch_size=batch_size,\n",
    "                                        shuffle=False,\n",
    "                                        drop_last=True\n",
    "                                        )\n",
    "start = time.time()\n",
    "left, right, face, mouse, _ = next(iter(train_loader))\n",
    "print(time.time() - start)\n",
    "print(left.size(), right.size(), face.size()) # size of the image and mask"
   ]
  },
  {
   "cell_type": "code",
   "execution_count": null,
   "metadata": {
    "colab": {
     "base_uri": "https://localhost:8080/"
    },
    "executionInfo": {
     "elapsed": 8,
     "status": "ok",
     "timestamp": 1626749692959,
     "user": {
      "displayName": "Gyungmin Myung",
      "photoUrl": "",
      "userId": "03813127663629680760"
     },
     "user_tz": -540
    },
    "id": "TUjx7SbMR7wY",
    "outputId": "035aee52-58eb-4a57-c519-c85c9717965d"
   },
   "outputs": [],
   "source": [
    "class BasicBlock(nn.Module):\n",
    "    expansion = 1\n",
    "\n",
    "    def __init__(self, in_channels, out_channels, rate=1, stride=1):\n",
    "        super().__init__()\n",
    "\n",
    "        #residual function\n",
    "        self.residual_function = nn.Sequential(\n",
    "            nn.Conv2d(in_channels, out_channels, kernel_size=3, \n",
    "                      stride=stride, dilation = rate, \n",
    "                      padding=rate, bias=False),\n",
    "            nn.BatchNorm2d(out_channels),\n",
    "            nn.ReLU(inplace=True),\n",
    "            nn.Conv2d(out_channels, out_channels * BasicBlock.expansion,\n",
    "                      kernel_size=3, dilation = rate, \n",
    "                      padding=rate, bias=False),\n",
    "            nn.BatchNorm2d(out_channels * BasicBlock.expansion)\n",
    "        )\n",
    "        self.shortcut = nn.Sequential()\n",
    "        if stride != 1 or in_channels != BasicBlock.expansion * out_channels:\n",
    "            self.shortcut = nn.Sequential(nn.Conv2d(in_channels, out_channels * BasicBlock.expansion, \n",
    "                                                    kernel_size=1, stride=stride, bias=False),\n",
    "                                          nn.BatchNorm2d(out_channels * BasicBlock.expansion))\n",
    "\n",
    "    def forward(self, x):\n",
    "        return nn.ReLU(inplace=True)(self.residual_function(x) + self.shortcut(x))\n",
    "\n",
    "class eyeNet(nn.Module):\n",
    "\n",
    "    def __init__(self):\n",
    "        super().__init__()\n",
    "        '''\n",
    "        self.left = nn.Sequential(nn.Conv2d(1, 8, kernel_size=5, padding=2, stride = 2, bias=False),\n",
    "                                  nn.BatchNorm2d(8),\n",
    "                                  nn.ReLU(inplace=True),\n",
    "                                  BasicBlock(8, 16, rate = 1, stride = 2),\n",
    "                                  BasicBlock(16, 16, rate = 1, stride = 5),\n",
    "                                  BasicBlock(16, 32, rate = 1, stride = 5),)\n",
    "        self.right = nn.Sequential(nn.Conv2d(1, 8, kernel_size=5, padding=2, stride = 2, bias=False),\n",
    "                                  nn.BatchNorm2d(8),\n",
    "                                  nn.ReLU(inplace=True),\n",
    "                                  BasicBlock(8, 8, rate = 1, stride = 2),\n",
    "                                  BasicBlock(8, 16, rate = 1, stride = 5),\n",
    "                                  BasicBlock(16, 32, rate = 1, stride = 5),)\n",
    "        '''\n",
    "        self.left = nn.Sequential(nn.Conv2d(1, 8, kernel_size=3, padding=1, stride = 2, bias=False),\n",
    "                                  nn.BatchNorm2d(8),\n",
    "                                  nn.ReLU(inplace=True),\n",
    "                                  BasicBlock(8, 8, rate = 1, stride = 2),\n",
    "                                  BasicBlock(8, 16, rate = 1, stride = 5),\n",
    "                                  BasicBlock(16, 32, rate = 1, stride = 5),)\n",
    "        self.right = nn.Sequential(nn.Conv2d(1, 8, kernel_size=3, padding=1, stride = 2, bias=False),\n",
    "                                  nn.BatchNorm2d(8),\n",
    "                                  nn.ReLU(inplace=True),\n",
    "                                  BasicBlock(8, 8, rate = 1, stride = 2),\n",
    "                                  BasicBlock(8, 16, rate = 1, stride = 5),\n",
    "                                  BasicBlock(16, 32, rate = 1, stride = 5),)\n",
    "        self.final = nn.Sequential(nn.Linear(200, 100),\n",
    "                                   nn.ReLU(inplace=True),\n",
    "                                   nn.Linear(100, 2),\n",
    "                                   nn.ReLU(inplace=True))\n",
    "\n",
    "    def forward(self, l, r, c):\n",
    "        input_size = l.size()\n",
    "        l, r = self.left(l), self.left(r)\n",
    "        x = torch.cat((torch.flatten(l, start_dim=1), torch.flatten(r, start_dim=1), c), 1)\n",
    "        x = self.final(x)\n",
    "        return x\n",
    "\n",
    "\n",
    "l = torch.zeros(16, 1, 100, 100)\n",
    "r = torch.zeros(16, 1, 100, 100)\n",
    "c = torch.zeros(16, 136)\n",
    "model = eyeNet()\n",
    "start = time.time()\n",
    "output = model(l, r, c)\n",
    "print(time.time()-start)\n",
    "print(output.size())"
   ]
  },
  {
   "cell_type": "code",
   "execution_count": null,
   "metadata": {
    "scrolled": true
   },
   "outputs": [],
   "source": [
    "class eyeNet2(nn.Module):\n",
    "\n",
    "    def __init__(self):\n",
    "        super().__init__()\n",
    "        self.right = nn.Sequential(nn.Conv2d(1, 8, kernel_size=3),\n",
    "                                  nn.BatchNorm2d(8),\n",
    "                                  nn.ReLU(inplace=True),\n",
    "                                  nn.MaxPool2d(3),\n",
    "                                  nn.Conv2d(8, 8, kernel_size=3),\n",
    "                                  nn.BatchNorm2d(8),\n",
    "                                  nn.ReLU(inplace=True),\n",
    "                                  nn.MaxPool2d(3),\n",
    "                                  nn.Conv2d(8, 8, kernel_size=3),\n",
    "                                  nn.BatchNorm2d(8),\n",
    "                                  nn.ReLU(inplace=True),\n",
    "                                  nn.MaxPool2d(3))\n",
    "        self.left = nn.Sequential(nn.Conv2d(1, 8, kernel_size=3),\n",
    "                                  nn.BatchNorm2d(8),\n",
    "                                  nn.ReLU(inplace=True),\n",
    "                                  nn.MaxPool2d(3),\n",
    "                                  nn.Conv2d(8, 8, kernel_size=3),\n",
    "                                  nn.BatchNorm2d(8),\n",
    "                                  nn.ReLU(inplace=True),\n",
    "                                  nn.MaxPool2d(3),\n",
    "                                  nn.Conv2d(8, 8, kernel_size=3),\n",
    "                                  nn.BatchNorm2d(8),\n",
    "                                  nn.ReLU(inplace=True),\n",
    "                                  nn.MaxPool2d(3))\n",
    "        self.final = nn.Sequential(nn.Linear(200, 40),\n",
    "                                   nn.ReLU(inplace=True),\n",
    "                                   nn.Linear(40, 2),\n",
    "                                   nn.ReLU(inplace=True))\n",
    "\n",
    "    def forward(self, l, r, c):\n",
    "        input_size = l.size()\n",
    "        l, r = self.left(l), self.left(r)\n",
    "        x = torch.cat((torch.flatten(l, start_dim=1), torch.flatten(r, start_dim=1), c), 1)\n",
    "        x = self.final(x)\n",
    "        return x\n",
    "\n",
    "def count_parameters(model):\n",
    "    return sum(p.numel() for p in model.parameters() if p.requires_grad)\n",
    "\n",
    "l = torch.zeros(16, 1, 100, 100)\n",
    "r = torch.zeros(16, 1, 100, 100)\n",
    "c = torch.zeros(16, 136)\n",
    "model = eyeNet2()\n",
    "start = time.time()\n",
    "output = model(l, r, c)\n",
    "print(time.time()-start)\n",
    "print(output.size())\n",
    "print(count_parameters(model))"
   ]
  },
  {
   "cell_type": "markdown",
   "metadata": {
    "id": "lPsy-FWZTpvA"
   },
   "source": [
    "**8. Set-up the training environment (model, loss function, optimizer, etc).**\n"
   ]
  },
  {
   "cell_type": "code",
   "execution_count": null,
   "metadata": {
    "executionInfo": {
     "elapsed": 5738,
     "status": "ok",
     "timestamp": 1626749698693,
     "user": {
      "displayName": "Gyungmin Myung",
      "photoUrl": "",
      "userId": "03813127663629680760"
     },
     "user_tz": -540
    },
    "id": "t9d9D7Ki2EW7"
   },
   "outputs": [],
   "source": [
    "# You can modify the loss, the model and the optimizer\n",
    "criterion = nn.MSELoss() # Ignore the index 9 indiciating 'boundaries' for calculating loss\n",
    "model = eyeNet()\n",
    "optim = torch.optim.Adam(model.parameters(), lr = learning_rate)\n",
    "\n",
    "best_model_state, best_optim_state = None, None\n",
    "latest_model_state, latest_optim_state = None, None"
   ]
  },
  {
   "cell_type": "markdown",
   "metadata": {
    "id": "pG07e6piUqD0"
   },
   "source": [
    "**9. Check your segmentation network.**\n",
    "\n",
    "You can define your own network in **model_baseline.py.** "
   ]
  },
  {
   "cell_type": "code",
   "execution_count": null,
   "metadata": {
    "colab": {
     "base_uri": "https://localhost:8080/"
    },
    "executionInfo": {
     "elapsed": 2,
     "status": "ok",
     "timestamp": 1626749698693,
     "user": {
      "displayName": "Gyungmin Myung",
      "photoUrl": "",
      "userId": "03813127663629680760"
     },
     "user_tz": -540
    },
    "id": "p44ATVYX6UqB",
    "outputId": "521efea7-cd48-47ce-ea76-2ea70d6b64bd"
   },
   "outputs": [],
   "source": [
    "print('The network architecture is as follows.')\n",
    "print(model)"
   ]
  },
  {
   "cell_type": "code",
   "execution_count": null,
   "metadata": {
    "colab": {
     "base_uri": "https://localhost:8080/",
     "height": 1000,
     "referenced_widgets": [
      "c8511e38e14a4a39ba1a91dac2bc55cf",
      "0312f7235c2a41c589cbb3d8b401bfe8",
      "d8a1e95ceb3449d08e7fca3d4dd0b97c",
      "b9c7e52b456b4e1ebe95dd10f47947d5",
      "19aefc436a6c4ca9a2189c3e5a5021b1",
      "a12ed085f3674e78a8adba8dd8d9d8b9",
      "b906b65f69de4d2eb7403e033d7fc7f2",
      "216c6b20d63d4d6eaac769d5be226530"
     ]
    },
    "executionInfo": {
     "elapsed": 417695,
     "status": "ok",
     "timestamp": 1626750116387,
     "user": {
      "displayName": "Gyungmin Myung",
      "photoUrl": "",
      "userId": "03813127663629680760"
     },
     "user_tz": -540
    },
    "id": "ysX2MqYi2EW_",
    "outputId": "5bcfe755-0569-4598-8e1f-5b9f5ac26fb3"
   },
   "outputs": [],
   "source": [
    "start = time.time()\n",
    "\n",
    "for epoch in tqdm(range(n_epoch)):\n",
    "    train_total_loss, valid_total_loss = 0.0, 0.0\n",
    "    # # --------------\n",
    "    # # Training step\n",
    "    # # --------------\n",
    "    model.train()\n",
    "    # At first loading, it may be stuck for a while..\n",
    "    for _, (l, r, c, m, _) in enumerate(train_loader):\n",
    "        l = l\n",
    "        r = r\n",
    "        c = c\n",
    "        m = m\n",
    "        # Predict the pixel-wise probability map indicating class prediction\n",
    "        pred = model(l, r, c)\n",
    "\n",
    "        # Calculate loss\n",
    "        loss = criterion(pred, m)\n",
    "        \n",
    "        # Backpropagate the loss to update network's weights\n",
    "        optim.zero_grad()\n",
    "        loss.backward()\n",
    "        optim.step()\n",
    "\n",
    "        train_total_loss += loss.item() * batch_size / (2019 * 0.9)\n",
    "        \n",
    "    # ----------------\n",
    "    # Validation step\n",
    "    # ----------------\n",
    "    with torch.no_grad():\n",
    "        model.eval()\n",
    "        # Load mini-batches and do validation\n",
    "        for _, (l, r, c, m, _) in enumerate(valid_loader):\n",
    "            le = l\n",
    "            ri = r\n",
    "            co = c\n",
    "            mo = m\n",
    "\n",
    "            pred = model(le, ri, co)\n",
    "            loss = criterion(pred, mo)\n",
    "            valid_total_loss += loss.item() * batch_size / (2019 * 0.1)\n",
    "\n",
    "        \n",
    "        # Store the latest and best accuracy models and optimizers\n",
    "        latest_model_state = model.state_dict()\n",
    "        latest_optim_state = optim.state_dict()\n",
    "\n",
    "    # Print training logs and save intermediate validation results during training\n",
    "    if epoch % 10 == 0 or epoch == n_epoch - 1: \n",
    "        print(f\"\"\"\\n{time.strftime(\"%Y-%m-%d %H:%M:%S\", time.localtime())} || [{epoch}/{n_epoch}], train_loss = {train_total_loss:.4f}, valid_loss = {valid_total_loss:.4f}\"\"\")\n",
    "\n",
    "elapsed = time.time() - start\n",
    "print(f\"End of training, elapsed time : {elapsed // 60} min {elapsed % 60} sec.\")"
   ]
  },
  {
   "cell_type": "code",
   "execution_count": null,
   "metadata": {
    "colab": {
     "base_uri": "https://localhost:8080/"
    },
    "executionInfo": {
     "elapsed": 2000,
     "status": "ok",
     "timestamp": 1623312338624,
     "user": {
      "displayName": "Gyungmin Myung",
      "photoUrl": "",
      "userId": "03813127663629680760"
     },
     "user_tz": -540
    },
    "id": "7KM0EGsB2EXC",
    "outputId": "489bec82-e7fc-4bea-fe7a-dc3c79c4dd27"
   },
   "outputs": [],
   "source": [
    "torch.save(best_model_state, f\"{filepath}/{experiment}/best_model_state_dict.pt\")\n",
    "torch.save(best_optim_state, f\"{filepath}/{experiment}/best_optim_state_dict.pt\")\n",
    "torch.save(latest_model_state, f\"{filepath}/{experiment}/latest_model_state_dict.pt\")\n",
    "torch.save(latest_optim_state, f\"{filepath}/{experiment}/latest_optim_state_dict.pt\")\n",
    "print(\"Successfully saved.\")"
   ]
  },
  {
   "cell_type": "code",
   "execution_count": null,
   "metadata": {
    "id": "4rkvRJAZ4_wm"
   },
   "outputs": [],
   "source": [
    " "
   ]
  }
 ],
 "metadata": {
  "accelerator": "GPU",
  "colab": {
   "collapsed_sections": [],
   "machine_shape": "hm",
   "name": "train model.ipynb",
   "provenance": []
  },
  "kernelspec": {
   "display_name": "Python 3 (ipykernel)",
   "language": "python",
   "name": "python3"
  },
  "language_info": {
   "codemirror_mode": {
    "name": "ipython",
    "version": 3
   },
   "file_extension": ".py",
   "mimetype": "text/x-python",
   "name": "python",
   "nbconvert_exporter": "python",
   "pygments_lexer": "ipython3",
   "version": "3.8.10"
  },
  "widgets": {
   "application/vnd.jupyter.widget-state+json": {
    "0312f7235c2a41c589cbb3d8b401bfe8": {
     "model_module": "@jupyter-widgets/base",
     "model_name": "LayoutModel",
     "state": {
      "_model_module": "@jupyter-widgets/base",
      "_model_module_version": "1.2.0",
      "_model_name": "LayoutModel",
      "_view_count": null,
      "_view_module": "@jupyter-widgets/base",
      "_view_module_version": "1.2.0",
      "_view_name": "LayoutView",
      "align_content": null,
      "align_items": null,
      "align_self": null,
      "border": null,
      "bottom": null,
      "display": null,
      "flex": null,
      "flex_flow": null,
      "grid_area": null,
      "grid_auto_columns": null,
      "grid_auto_flow": null,
      "grid_auto_rows": null,
      "grid_column": null,
      "grid_gap": null,
      "grid_row": null,
      "grid_template_areas": null,
      "grid_template_columns": null,
      "grid_template_rows": null,
      "height": null,
      "justify_content": null,
      "justify_items": null,
      "left": null,
      "margin": null,
      "max_height": null,
      "max_width": null,
      "min_height": null,
      "min_width": null,
      "object_fit": null,
      "object_position": null,
      "order": null,
      "overflow": null,
      "overflow_x": null,
      "overflow_y": null,
      "padding": null,
      "right": null,
      "top": null,
      "visibility": null,
      "width": null
     }
    },
    "19aefc436a6c4ca9a2189c3e5a5021b1": {
     "model_module": "@jupyter-widgets/controls",
     "model_name": "ProgressStyleModel",
     "state": {
      "_model_module": "@jupyter-widgets/controls",
      "_model_module_version": "1.5.0",
      "_model_name": "ProgressStyleModel",
      "_view_count": null,
      "_view_module": "@jupyter-widgets/base",
      "_view_module_version": "1.2.0",
      "_view_name": "StyleView",
      "bar_color": null,
      "description_width": "initial"
     }
    },
    "216c6b20d63d4d6eaac769d5be226530": {
     "model_module": "@jupyter-widgets/base",
     "model_name": "LayoutModel",
     "state": {
      "_model_module": "@jupyter-widgets/base",
      "_model_module_version": "1.2.0",
      "_model_name": "LayoutModel",
      "_view_count": null,
      "_view_module": "@jupyter-widgets/base",
      "_view_module_version": "1.2.0",
      "_view_name": "LayoutView",
      "align_content": null,
      "align_items": null,
      "align_self": null,
      "border": null,
      "bottom": null,
      "display": null,
      "flex": null,
      "flex_flow": null,
      "grid_area": null,
      "grid_auto_columns": null,
      "grid_auto_flow": null,
      "grid_auto_rows": null,
      "grid_column": null,
      "grid_gap": null,
      "grid_row": null,
      "grid_template_areas": null,
      "grid_template_columns": null,
      "grid_template_rows": null,
      "height": null,
      "justify_content": null,
      "justify_items": null,
      "left": null,
      "margin": null,
      "max_height": null,
      "max_width": null,
      "min_height": null,
      "min_width": null,
      "object_fit": null,
      "object_position": null,
      "order": null,
      "overflow": null,
      "overflow_x": null,
      "overflow_y": null,
      "padding": null,
      "right": null,
      "top": null,
      "visibility": null,
      "width": null
     }
    },
    "a12ed085f3674e78a8adba8dd8d9d8b9": {
     "model_module": "@jupyter-widgets/base",
     "model_name": "LayoutModel",
     "state": {
      "_model_module": "@jupyter-widgets/base",
      "_model_module_version": "1.2.0",
      "_model_name": "LayoutModel",
      "_view_count": null,
      "_view_module": "@jupyter-widgets/base",
      "_view_module_version": "1.2.0",
      "_view_name": "LayoutView",
      "align_content": null,
      "align_items": null,
      "align_self": null,
      "border": null,
      "bottom": null,
      "display": null,
      "flex": null,
      "flex_flow": null,
      "grid_area": null,
      "grid_auto_columns": null,
      "grid_auto_flow": null,
      "grid_auto_rows": null,
      "grid_column": null,
      "grid_gap": null,
      "grid_row": null,
      "grid_template_areas": null,
      "grid_template_columns": null,
      "grid_template_rows": null,
      "height": null,
      "justify_content": null,
      "justify_items": null,
      "left": null,
      "margin": null,
      "max_height": null,
      "max_width": null,
      "min_height": null,
      "min_width": null,
      "object_fit": null,
      "object_position": null,
      "order": null,
      "overflow": null,
      "overflow_x": null,
      "overflow_y": null,
      "padding": null,
      "right": null,
      "top": null,
      "visibility": null,
      "width": null
     }
    },
    "b906b65f69de4d2eb7403e033d7fc7f2": {
     "model_module": "@jupyter-widgets/controls",
     "model_name": "DescriptionStyleModel",
     "state": {
      "_model_module": "@jupyter-widgets/controls",
      "_model_module_version": "1.5.0",
      "_model_name": "DescriptionStyleModel",
      "_view_count": null,
      "_view_module": "@jupyter-widgets/base",
      "_view_module_version": "1.2.0",
      "_view_name": "StyleView",
      "description_width": ""
     }
    },
    "b9c7e52b456b4e1ebe95dd10f47947d5": {
     "model_module": "@jupyter-widgets/controls",
     "model_name": "HTMLModel",
     "state": {
      "_dom_classes": [],
      "_model_module": "@jupyter-widgets/controls",
      "_model_module_version": "1.5.0",
      "_model_name": "HTMLModel",
      "_view_count": null,
      "_view_module": "@jupyter-widgets/controls",
      "_view_module_version": "1.5.0",
      "_view_name": "HTMLView",
      "description": "",
      "description_tooltip": null,
      "layout": "IPY_MODEL_216c6b20d63d4d6eaac769d5be226530",
      "placeholder": "​",
      "style": "IPY_MODEL_b906b65f69de4d2eb7403e033d7fc7f2",
      "value": " 600/600 [30:51&lt;00:00,  3.09s/it]"
     }
    },
    "c8511e38e14a4a39ba1a91dac2bc55cf": {
     "model_module": "@jupyter-widgets/controls",
     "model_name": "HBoxModel",
     "state": {
      "_dom_classes": [],
      "_model_module": "@jupyter-widgets/controls",
      "_model_module_version": "1.5.0",
      "_model_name": "HBoxModel",
      "_view_count": null,
      "_view_module": "@jupyter-widgets/controls",
      "_view_module_version": "1.5.0",
      "_view_name": "HBoxView",
      "box_style": "",
      "children": [
       "IPY_MODEL_d8a1e95ceb3449d08e7fca3d4dd0b97c",
       "IPY_MODEL_b9c7e52b456b4e1ebe95dd10f47947d5"
      ],
      "layout": "IPY_MODEL_0312f7235c2a41c589cbb3d8b401bfe8"
     }
    },
    "d8a1e95ceb3449d08e7fca3d4dd0b97c": {
     "model_module": "@jupyter-widgets/controls",
     "model_name": "FloatProgressModel",
     "state": {
      "_dom_classes": [],
      "_model_module": "@jupyter-widgets/controls",
      "_model_module_version": "1.5.0",
      "_model_name": "FloatProgressModel",
      "_view_count": null,
      "_view_module": "@jupyter-widgets/controls",
      "_view_module_version": "1.5.0",
      "_view_name": "ProgressView",
      "bar_style": "success",
      "description": "100%",
      "description_tooltip": null,
      "layout": "IPY_MODEL_a12ed085f3674e78a8adba8dd8d9d8b9",
      "max": 600,
      "min": 0,
      "orientation": "horizontal",
      "style": "IPY_MODEL_19aefc436a6c4ca9a2189c3e5a5021b1",
      "value": 600
     }
    }
   }
  }
 },
 "nbformat": 4,
 "nbformat_minor": 1
}
